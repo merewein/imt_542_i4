{
  "nbformat": 4,
  "nbformat_minor": 0,
  "metadata": {
    "colab": {
      "provenance": [],
      "authorship_tag": "ABX9TyMjfa/+aiirdPBU24Lut17w",
      "include_colab_link": true
    },
    "kernelspec": {
      "name": "python3",
      "display_name": "Python 3"
    },
    "language_info": {
      "name": "python"
    }
  },
  "cells": [
    {
      "cell_type": "markdown",
      "metadata": {
        "id": "view-in-github",
        "colab_type": "text"
      },
      "source": [
        "<a href=\"https://colab.research.google.com/github/merewein/imt_542_i4/blob/main/imt_542_i4.ipynb\" target=\"_parent\"><img src=\"https://colab.research.google.com/assets/colab-badge.svg\" alt=\"Open In Colab\"/></a>"
      ]
    },
    {
      "cell_type": "code",
      "execution_count": 20,
      "metadata": {
        "colab": {
          "base_uri": "https://localhost:8080/"
        },
        "id": "3ijcbPw3Oqax",
        "outputId": "27022d31-d38b-4dc6-b698-9a28a05a8da8"
      },
      "outputs": [
        {
          "output_type": "stream",
          "name": "stdout",
          "text": [
            "Sample JSON data from Met Museum API:\n",
            "Title: Sunflowers\n",
            "Artist: Vincent van Gogh\n",
            "Object Date: 1887\n",
            "\n",
            "Sample titles from New Yorker Best Books 2025 page:\n",
            "- Lincoln’s Peace\n",
            "- Crumb\n",
            "- Mỹ Documents\n",
            "\n",
            "Row from CSV: {'License Issue Date': 'December 18 2015', 'License Number': 'S107948', \"Animal's Name\": 'Zen', 'Species': 'Cat', 'Primary Breed': 'Domestic Longhair', 'Secondary Breed': 'Mix', 'ZIP Code': '98117'}\n"
          ]
        }
      ],
      "source": [
        "import requests\n",
        "import csv\n",
        "import os\n",
        "from bs4 import BeautifulSoup\n",
        "\n",
        "# 1. Access JSON data from the Met Museum API\n",
        "def fetch_json_api():\n",
        "    \"\"\"\n",
        "    Access method: API over HTTP (Met Museum Collection API)\n",
        "    Pros:\n",
        "    - Easy to retrieve data\n",
        "    - Public API, no authentication or API key needed\n",
        "    Cons:\n",
        "    - Dependent on network connection\n",
        "    - API structure could change, impacting retrieval\n",
        "    Instructions:\n",
        "    - No setup needed, just run\n",
        "    \"\"\"\n",
        "    # Fetch a sample object ID (436524 is Van Gogh's \"Sunflowers\")\n",
        "    object_id = 436524\n",
        "    url = f\"https://collectionapi.metmuseum.org/public/collection/v1/objects/{object_id}\"\n",
        "    response = requests.get(url)\n",
        "    data = response.json()\n",
        "    print(\"Sample JSON data from Met Museum API:\")\n",
        "    print(\"Title:\", data.get(\"title\"))\n",
        "    print(\"Artist:\", data.get(\"artistDisplayName\"))\n",
        "    print(\"Object Date:\", data.get(\"objectDate\"))\n",
        "\n",
        "# 2. Access HTML webpage (New Yorker Best Books 2025)\n",
        "def fetch_html_webpage():\n",
        "    \"\"\"\n",
        "    Access method: HTTP request to download and parse HTML\n",
        "    Pros:\n",
        "    - Can extract rich text and data\n",
        "    - Flexible with parsing libraries like BeautifulSoup\n",
        "    Cons:\n",
        "    - HTML structures are fragile; changes break code (i.e. retrieval wouldn't\n",
        "    work if article was reformatted and book titles were no longer formatted h3)\n",
        "    - Large webpages might be slow\n",
        "    Instructions:\n",
        "    - No setup needed, just run\n",
        "    \"\"\"\n",
        "    url = \"https://www.newyorker.com/best-books-2025\"\n",
        "    response = requests.get(url)\n",
        "    soup = BeautifulSoup(response.text, 'html.parser')\n",
        "\n",
        "    # Try to find titles of books/articles on the page\n",
        "    # New Yorker used h3 for book titles in this article\n",
        "    titles = soup.find_all('h3')\n",
        "    if titles:\n",
        "        print(\"\\nSample titles from New Yorker Best Books 2025 page:\")\n",
        "        for title in titles[:3]:  # Print first 3 titles\n",
        "            print(\"-\", title.get_text(strip=True))\n",
        "    else:\n",
        "        print(\"No titles found on the page.\")\n",
        "\n",
        "# 3. Access CSV file locally\n",
        "def fetch_csv_file():\n",
        "    \"\"\"\n",
        "    Access method: Manual file download and read locally\n",
        "    Pros:\n",
        "    - Simple and easy file operations\n",
        "    - Great for small, tabular data\n",
        "    Cons:\n",
        "    - Needs manual file management\n",
        "    - Can get out-of-date if not refreshed\n",
        "    Instructions:\n",
        "    - Must upload Seattle_Pet_Licenses.csv to receive results\n",
        "    \"\"\"\n",
        "    filename = 'Seattle_Pet_Licenses.csv'\n",
        "\n",
        "\n",
        "    # Read file\n",
        "    with open(filename, mode='r') as file:\n",
        "        reader = csv.DictReader(file)\n",
        "        for row in reader:\n",
        "            print(\"\\nRow from CSV:\", row)\n",
        "            break\n",
        "\n",
        "if __name__ == \"__main__\":\n",
        "    fetch_json_api()\n",
        "    fetch_html_webpage()\n",
        "    fetch_csv_file()\n"
      ]
    }
  ]
}